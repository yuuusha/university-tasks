{
 "cells": [
  {
   "cell_type": "code",
   "execution_count": 23,
   "id": "8751e9bf",
   "metadata": {},
   "outputs": [],
   "source": [
    "import csv"
   ]
  },
  {
   "cell_type": "code",
   "execution_count": 24,
   "id": "7d3237a0",
   "metadata": {},
   "outputs": [
    {
     "name": "stdout",
     "output_type": "stream",
     "text": [
      "n=4\n",
      "m=5\n",
      "rows=2\n",
      "cols=2\n",
      "items=саквояж;картина;корзина;картонка;\"маленькая собачонка\"\n",
      "exit\n"
     ]
    }
   ],
   "source": [
    "parameters = {'file': 'input.csv', 'n': None, 'rows': None, 'cols': None, 'm': None, 'items': None}\n",
    "\n",
    "for i in range(6):\n",
    "    \n",
    "    input_string = input()\n",
    "    if input_string == 'exit':\n",
    "        break;\n",
    "\n",
    "    key, value = input_string.split('=')\n",
    "\n",
    "    if key not in parameters:\n",
    "        raise ValueError(f\"Указан несуществующий параметр {key}\")\n",
    "        \n",
    "    if key == 'file' or key == 'f':\n",
    "        parameters['file'] = value\n",
    "        \n",
    "    if key == 'n' or key == 'number':\n",
    "        try:\n",
    "            parameters['n'] = int(value)\n",
    "        except ValueError as e:\n",
    "            raise(f\"Введено не число в параметре {key}: {e}\")\n",
    "            \n",
    "    if key == 'm' or key == 'pigeons':\n",
    "        try:\n",
    "            parameters['m'] = int(value)\n",
    "        except ValueError as e:\n",
    "            raise(f\"Введено не число в параметре {key}: {e}\")\n",
    "            \n",
    "    if key == 'rows' or key == 'cols':\n",
    "        try:\n",
    "            parameters[key] = int(value)\n",
    "        except ValueError as e:\n",
    "            raise(f\"Введено не число в параметре {key}: {e}\")\n",
    "            \n",
    "    if key == 'items':\n",
    "        parameters['items'] = [item.strip('\"\"') for item in value.split(';')]\n",
    "    \n",
    "for param in ['n', 'm', 'rows', 'cols', 'items']:\n",
    "    if parameters[param] == None:\n",
    "        raise Exception(f\"Необходимо указать обязательный параметр {param}\")\n",
    "        \n",
    "parameters['items'].sort()"
   ]
  },
  {
   "cell_type": "code",
   "execution_count": 25,
   "id": "0a799e61",
   "metadata": {},
   "outputs": [
    {
     "name": "stdout",
     "output_type": "stream",
     "text": [
      "[['саквояж', 'картина'], ['корзина', 'картонка, маленькая собачонка']]\n"
     ]
    }
   ],
   "source": [
    "data = []\n",
    "try:\n",
    "    with open(parameters['file'], newline='') as file:\n",
    "        data = list(csv.reader(file))\n",
    "except Exception as e:\n",
    "    raise IOError(f\"Ошибка при чтении файла {file}: {e}\")\n",
    "print(data)"
   ]
  },
  {
   "cell_type": "code",
   "execution_count": 26,
   "id": "9073902e",
   "metadata": {},
   "outputs": [],
   "source": [
    "for rows in data:\n",
    "    if len(rows) != len(data[0]):\n",
    "        raise Exception(\"Длины строк в файле разные\")"
   ]
  },
  {
   "cell_type": "code",
   "execution_count": 27,
   "id": "6f1d1e5b",
   "metadata": {},
   "outputs": [],
   "source": [
    "real_parameters = {'n': None, 'rows': None, 'cols': None, 'm': None, 'items': []}\n",
    "real_parameters['rows'] = len(data)\n",
    "real_parameters['cols'] = len(data[0])\n",
    "real_parameters['n'] = real_parameters['rows'] * real_parameters['cols']"
   ]
  },
  {
   "cell_type": "code",
   "execution_count": 28,
   "id": "42c4cff0",
   "metadata": {},
   "outputs": [
    {
     "name": "stdout",
     "output_type": "stream",
     "text": [
      "{'n': 4, 'rows': 2, 'cols': 2, 'm': 5, 'items': ['картина', 'картонка', 'корзина', 'маленькая собачонка', 'саквояж']}\n"
     ]
    }
   ],
   "source": [
    "for rows in data:\n",
    "    for cols in rows:\n",
    "        items = cols.split(',')\n",
    "        for x in items:\n",
    "            if x != \"\":\n",
    "                real_parameters['items'].append(x.strip())\n",
    "real_parameters['items'].sort()\n",
    "real_parameters['m'] = len(real_parameters['items'])\n",
    "print(real_parameters)"
   ]
  },
  {
   "cell_type": "code",
   "execution_count": 29,
   "id": "ad5b7dea",
   "metadata": {},
   "outputs": [],
   "source": [
    "for key, value in real_parameters.items():\n",
    "    if value != parameters[key]:\n",
    "        raise Exception(f\"Несоответствие параметра {key}\")"
   ]
  },
  {
   "cell_type": "code",
   "execution_count": 30,
   "id": "6c1eb035",
   "metadata": {},
   "outputs": [
    {
     "name": "stdout",
     "output_type": "stream",
     "text": [
      "{'file': 'input.csv', 'n': 4, 'rows': 2, 'cols': 2, 'm': 5, 'items': ['картина', 'картонка', 'корзина', 'маленькая собачонка', 'саквояж']}\n"
     ]
    }
   ],
   "source": [
    "print(parameters)"
   ]
  },
  {
   "cell_type": "code",
   "execution_count": 32,
   "id": "76cc0985",
   "metadata": {},
   "outputs": [
    {
     "name": "stdout",
     "output_type": "stream",
     "text": [
      "Если в 4 ящиках лежит 5 предметов, то \n",
      "хотя бы в одном ящике лежит не менее 2 предметов\n"
     ]
    }
   ],
   "source": [
    "import math\n",
    "\n",
    "print(f\"Если в {real_parameters['n']} ящиках лежит {real_parameters['m']} предметов, то \")\n",
    "if real_parameters['m'] > real_parameters['n']:\n",
    "    print(f\"хотя бы в одном ящике лежит не менее {math.ceil(real_parameters['m'] / real_parameters['n'])} предметов\")\n",
    "else:\n",
    "    print(f\"пустых ящиков как минимум {real_parameters['n'] - real_parameters['m']}\")"
   ]
  },
  {
   "cell_type": "code",
   "execution_count": null,
   "id": "a0087771",
   "metadata": {},
   "outputs": [],
   "source": []
  }
 ],
 "metadata": {
  "kernelspec": {
   "display_name": "Python 3 (ipykernel)",
   "language": "python",
   "name": "python3"
  },
  "language_info": {
   "codemirror_mode": {
    "name": "ipython",
    "version": 3
   },
   "file_extension": ".py",
   "mimetype": "text/x-python",
   "name": "python",
   "nbconvert_exporter": "python",
   "pygments_lexer": "ipython3",
   "version": "3.10.9"
  }
 },
 "nbformat": 4,
 "nbformat_minor": 5
}
