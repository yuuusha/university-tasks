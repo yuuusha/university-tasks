{
 "cells": [
  {
   "cell_type": "code",
   "execution_count": 105,
   "id": "47f251e3",
   "metadata": {},
   "outputs": [
    {
     "name": "stdout",
     "output_type": "stream",
     "text": [
      "1. Сгенерировать матрицу размером 4 × 4, заполненную целыми числами.\n",
      "[[17 16 18  5]\n",
      " [12 11  7  7]\n",
      " [16 19 16  3]\n",
      " [ 4 16  3 16]]\n"
     ]
    }
   ],
   "source": [
    "import numpy as np\n",
    "\n",
    "np.random.seed(5041)\n",
    "\n",
    "print(\"1. Сгенерировать матрицу размером 4 × 4, заполненную целыми числами.\")\n",
    "matrix = np.random.randint(1, 20, size=(4,4))\n",
    "print(matrix)"
   ]
  },
  {
   "cell_type": "code",
   "execution_count": 106,
   "id": "1b437636",
   "metadata": {},
   "outputs": [
    {
     "name": "stdout",
     "output_type": "stream",
     "text": [
      "2. Вывести на экран элемент с индексами [3, 2].\n",
      "3\n"
     ]
    }
   ],
   "source": [
    "print(\"2. Вывести на экран элемент с индексами [3, 2].\")\n",
    "print(matrix[3][2])"
   ]
  },
  {
   "cell_type": "code",
   "execution_count": 107,
   "id": "5e6b9e10",
   "metadata": {},
   "outputs": [
    {
     "name": "stdout",
     "output_type": "stream",
     "text": [
      "3.  Вывести на экран вторую строку матрицы.\n",
      "[12 11  7  7]\n"
     ]
    }
   ],
   "source": [
    "print(\"3.  Вывести на экран вторую строку матрицы.\")\n",
    "print(matrix[1])"
   ]
  },
  {
   "cell_type": "code",
   "execution_count": 108,
   "id": "294cb941",
   "metadata": {},
   "outputs": [
    {
     "name": "stdout",
     "output_type": "stream",
     "text": [
      "4. Вывести на экран каждый второй элемент первой строки матрицы.\n",
      "[16  5]\n"
     ]
    }
   ],
   "source": [
    "print(\"4. Вывести на экран каждый второй элемент первой строки матрицы.\")\n",
    "print(matrix[0][1::2])"
   ]
  },
  {
   "cell_type": "code",
   "execution_count": 109,
   "id": "2c5f1489",
   "metadata": {},
   "outputs": [
    {
     "name": "stdout",
     "output_type": "stream",
     "text": [
      "5. Изменить форму матрицы с 4 × 4 на 8 × 2.\n",
      "[[17 16]\n",
      " [18  5]\n",
      " [12 11]\n",
      " [ 7  7]\n",
      " [16 19]\n",
      " [16  3]\n",
      " [ 4 16]\n",
      " [ 3 16]]\n"
     ]
    }
   ],
   "source": [
    "print(\"5. Изменить форму матрицы с 4 × 4 на 8 × 2.\")\n",
    "new_reshape_matrix = matrix.reshape(8, 2)\n",
    "print(new_reshape_matrix)"
   ]
  },
  {
   "cell_type": "code",
   "execution_count": 110,
   "id": "1ec27400",
   "metadata": {},
   "outputs": [
    {
     "name": "stdout",
     "output_type": "stream",
     "text": [
      "6. Вычесть из каждого элемента матрицы заданное число.\n",
      "[[11 10 12 -1]\n",
      " [ 6  5  1  1]\n",
      " [10 13 10 -3]\n",
      " [-2 10 -3 10]]\n"
     ]
    }
   ],
   "source": [
    "print(\"6. Вычесть из каждого элемента матрицы заданное число.\")\n",
    "k = 6\n",
    "new_k_matrix = matrix - k\n",
    "print(new_k_matrix)"
   ]
  },
  {
   "cell_type": "code",
   "execution_count": 111,
   "id": "7848d491",
   "metadata": {},
   "outputs": [
    {
     "name": "stdout",
     "output_type": "stream",
     "text": [
      "7. Найти минимум на главной диагонали матрицы.\n",
      "11\n"
     ]
    }
   ],
   "source": [
    "print(\"7. Найти минимум на главной диагонали матрицы.\")\n",
    "print(np.min(np.diag(matrix)))"
   ]
  },
  {
   "cell_type": "code",
   "execution_count": 112,
   "id": "73ba7c08",
   "metadata": {},
   "outputs": [
    {
     "name": "stdout",
     "output_type": "stream",
     "text": [
      "8. Найти максимальный элемент в последнем столбце.\n",
      "16\n"
     ]
    }
   ],
   "source": [
    "print(\"8. Найти максимальный элемент в последнем столбце.\")\n",
    "print(np.max(matrix[::, -1]))"
   ]
  },
  {
   "cell_type": "code",
   "execution_count": 113,
   "id": "4fd2e7f0",
   "metadata": {},
   "outputs": [
    {
     "name": "stdout",
     "output_type": "stream",
     "text": [
      "9. Дан одномерный массив. Определить процент положительных и отрицательных чисел.\n",
      "[-8 -7 -4 -5 -6  3 -8  7  3  3]\n",
      "Процент положительных чисел:  40.0\n",
      "Процент отрицательных чисел:  60.0\n"
     ]
    }
   ],
   "source": [
    "print(\"9. Дан одномерный массив. Определить процент положительных и отрицательных чисел.\")\n",
    "array = np.random.randint(-10, 10, 10)\n",
    "n = len(array)\n",
    "print(array)\n",
    "negative_percentage = np.sum(array < 0) / n * 100\n",
    "positive_percantage = np.sum(array > 0) / n * 100\n",
    "print(\"Процент положительных чисел: \", positive_percantage)\n",
    "print(\"Процент отрицательных чисел: \", negative_percentage)"
   ]
  },
  {
   "cell_type": "code",
   "execution_count": 114,
   "id": "6dbeb08a",
   "metadata": {},
   "outputs": [
    {
     "name": "stdout",
     "output_type": "stream",
     "text": [
      "10. В заданной матрице подсчитать среднее геометрическое двузначных чисел, расположенных в четных столбцах матрицы.\n",
      "[[18  6 17  7 16 18]\n",
      " [10  3 10 19 13  2]\n",
      " [13 17  3 14 16  5]\n",
      " [ 9  2 10  5  8 12]\n",
      " [ 3  3  5  2  9  2]\n",
      " [18  6  4 12  9 10]]\n",
      "Элементы четных столбцов: \n",
      "[ 6  7 18  3 19  2 17 14  5  2  5 12  3  2  2  6 12 10]\n",
      "Только двузначные: \n",
      "[18 19 17 14 12 12 10]\n",
      "Среднее геометрическое: \n",
      "14.21377266405881\n"
     ]
    }
   ],
   "source": [
    "print(\"10. В заданной матрице подсчитать среднее геометрическое двузначных чисел, расположенных в четных столбцах матрицы.\")\n",
    "\n",
    "new_matrix = np.random.randint(1, 20, size=(6,6))\n",
    "print(new_matrix)\n",
    "\n",
    "print(\"Элементы четных столбцов: \")\n",
    "select = new_matrix[:, 1::2].flatten()\n",
    "print(select)\n",
    "\n",
    "print(\"Только двузначные: \")\n",
    "only_two_digits = select[(select >= 10) & (select < 100)]     #маска\n",
    "print(only_two_digits)\n",
    "\n",
    "print(\"Среднее геометрическое: \")\n",
    "geom_mean = np.prod(only_two_digits) ** (1/len(only_two_digits))\n",
    "print(geom_mean)"
   ]
  }
 ],
 "metadata": {
  "kernelspec": {
   "display_name": "Python 3 (ipykernel)",
   "language": "python",
   "name": "python3"
  },
  "language_info": {
   "codemirror_mode": {
    "name": "ipython",
    "version": 3
   },
   "file_extension": ".py",
   "mimetype": "text/x-python",
   "name": "python",
   "nbconvert_exporter": "python",
   "pygments_lexer": "ipython3",
   "version": "3.10.9"
  }
 },
 "nbformat": 4,
 "nbformat_minor": 5
}
