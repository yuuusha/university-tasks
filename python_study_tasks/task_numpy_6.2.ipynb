{
 "cells": [
  {
   "cell_type": "code",
   "execution_count": 8,
   "id": "725c87cb",
   "metadata": {},
   "outputs": [
    {
     "name": "stdout",
     "output_type": "stream",
     "text": [
      "11. Выполнить обработку элементов квадратной матрицы 𝐴, имеющей 𝑛 строк и 𝑛 столбцов. Заменить значения элементов главной диагонали на среднее арифметическое элементов соответствующих строки и столбца.\n"
     ]
    }
   ],
   "source": [
    "import numpy as np\n",
    "\n",
    "print(\"11. Выполнить обработку элементов квадратной матрицы 𝐴, имеющей 𝑛 строк и 𝑛 столбцов. Заменить значения элементов главной диагонали на среднее арифметическое элементов соответствующих строки и столбца.\")"
   ]
  },
  {
   "cell_type": "code",
   "execution_count": 9,
   "id": "f4d3a3cb",
   "metadata": {},
   "outputs": [
    {
     "name": "stdout",
     "output_type": "stream",
     "text": [
      "[[2. 5. 7. 7. 1. 6.]\n",
      " [1. 5. 7. 7. 6. 6.]\n",
      " [1. 5. 2. 5. 4. 4.]\n",
      " [4. 4. 5. 8. 9. 4.]\n",
      " [2. 5. 2. 2. 9. 5.]\n",
      " [1. 2. 5. 5. 1. 1.]]\n"
     ]
    }
   ],
   "source": [
    "np.random.seed(555)\n",
    "n = 6\n",
    "matrix = np.random.randint(1, 10, size=(n, n)).astype(float)\n",
    "print(matrix)"
   ]
  },
  {
   "cell_type": "code",
   "execution_count": 10,
   "id": "0a5745cf",
   "metadata": {},
   "outputs": [
    {
     "name": "stdout",
     "output_type": "stream",
     "text": [
      "[[3.25       5.         7.         7.         1.         6.        ]\n",
      " [1.         4.83333333 7.         7.         6.         6.        ]\n",
      " [1.         5.         4.08333333 5.         4.         4.        ]\n",
      " [4.         4.         5.         5.66666667 9.         4.        ]\n",
      " [2.         5.         2.         2.         4.58333333 5.        ]\n",
      " [1.         2.         5.         5.         1.         3.41666667]]\n"
     ]
    }
   ],
   "source": [
    "row_means = np.mean(matrix, axis=1) #вычисляем среднее по всем строкам\n",
    "col_means = np.mean(matrix, axis=0) #вычисляем среднее по всем столбцам\n",
    "\n",
    "np.fill_diagonal(matrix, (row_means + col_means) / 2)\n",
    "print(matrix)"
   ]
  },
  {
   "cell_type": "code",
   "execution_count": null,
   "id": "c9bfedc5",
   "metadata": {},
   "outputs": [],
   "source": []
  }
 ],
 "metadata": {
  "kernelspec": {
   "display_name": "Python 3 (ipykernel)",
   "language": "python",
   "name": "python3"
  },
  "language_info": {
   "codemirror_mode": {
    "name": "ipython",
    "version": 3
   },
   "file_extension": ".py",
   "mimetype": "text/x-python",
   "name": "python",
   "nbconvert_exporter": "python",
   "pygments_lexer": "ipython3",
   "version": "3.10.9"
  }
 },
 "nbformat": 4,
 "nbformat_minor": 5
}
