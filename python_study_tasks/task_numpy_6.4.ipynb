{
 "cells": [
  {
   "cell_type": "code",
   "execution_count": 13,
   "id": "062a9395",
   "metadata": {},
   "outputs": [],
   "source": [
    "import numpy as np"
   ]
  },
  {
   "cell_type": "code",
   "execution_count": 14,
   "id": "2638873e",
   "metadata": {},
   "outputs": [
    {
     "name": "stdout",
     "output_type": "stream",
     "text": [
      "[[1 2 3]\n",
      " [2 3 1]\n",
      " [3 1 2]]\n"
     ]
    }
   ],
   "source": [
    "matrix = np.array([[1, 2, 3],\n",
    "                   [2, 3, 1],\n",
    "                   [3, 1, 2]])\n",
    "print(matrix)"
   ]
  },
  {
   "cell_type": "code",
   "execution_count": 15,
   "id": "1e3f0822",
   "metadata": {},
   "outputs": [],
   "source": [
    "while matrix.shape[0] < 192:\n",
    "    lr = np.fliplr(matrix)                         #разворачиваем матрицу слева направо\n",
    "    matrix = np.concatenate((matrix, lr), axis=1)  #присоединяем к исходной справа\n",
    "    ud = np.flipud(matrix)                         #разворачиваем матрицу сверху вниз\n",
    "    matrix = np.concatenate((matrix, ud), axis=0)  #присоединяем к исходной снизу"
   ]
  },
  {
   "cell_type": "code",
   "execution_count": 18,
   "id": "29f18ad7",
   "metadata": {},
   "outputs": [
    {
     "name": "stdout",
     "output_type": "stream",
     "text": [
      "[[1 2 3 ... 3 2 1]\n",
      " [2 3 1 ... 1 3 2]\n",
      " [3 1 2 ... 2 1 3]\n",
      " ...\n",
      " [3 1 2 ... 2 1 3]\n",
      " [2 3 1 ... 1 3 2]\n",
      " [1 2 3 ... 3 2 1]]\n",
      "192\n"
     ]
    }
   ],
   "source": [
    "print(matrix)\n",
    "print(matrix.shape[0])"
   ]
  }
 ],
 "metadata": {
  "kernelspec": {
   "display_name": "Python 3 (ipykernel)",
   "language": "python",
   "name": "python3"
  },
  "language_info": {
   "codemirror_mode": {
    "name": "ipython",
    "version": 3
   },
   "file_extension": ".py",
   "mimetype": "text/x-python",
   "name": "python",
   "nbconvert_exporter": "python",
   "pygments_lexer": "ipython3",
   "version": "3.10.9"
  }
 },
 "nbformat": 4,
 "nbformat_minor": 5
}
