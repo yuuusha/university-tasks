{
 "cells": [
  {
   "cell_type": "code",
   "execution_count": 5,
   "id": "c0074385",
   "metadata": {},
   "outputs": [
    {
     "name": "stdout",
     "output_type": "stream",
     "text": [
      "11. Найти сумму элементов матрицы.\n"
     ]
    }
   ],
   "source": [
    "# Отключение предупреждений\n",
    "import warnings\n",
    "warnings.filterwarnings('ignore')\n",
    "\n",
    "from IPython.core.display import display, HTML\n",
    "import numpy as np\n",
    "import timeit\n",
    "\n",
    "print(\"11. Найти сумму элементов матрицы.\")\n",
    "\n",
    "matrix = np.random.randint(-100000, 100000, size=(10000, 10000))"
   ]
  },
  {
   "cell_type": "code",
   "execution_count": 2,
   "id": "3e88c721",
   "metadata": {},
   "outputs": [],
   "source": [
    "def alg_sum(a):\n",
    "    sum_el = 0\n",
    "    for row in a:\n",
    "        for column in row:\n",
    "            sum_el += column\n",
    "    return sum_el"
   ]
  },
  {
   "cell_type": "code",
   "execution_count": 3,
   "id": "9f258e94",
   "metadata": {},
   "outputs": [],
   "source": [
    "def py_sum(a):\n",
    "    return sum(sum(a))"
   ]
  },
  {
   "cell_type": "code",
   "execution_count": 4,
   "id": "9adc49f3",
   "metadata": {},
   "outputs": [
    {
     "data": {
      "text/html": [
       "<strong>Размерность 10x10</strong>"
      ],
      "text/plain": [
       "<IPython.core.display.HTML object>"
      ]
     },
     "metadata": {},
     "output_type": "display_data"
    },
    {
     "name": "stdout",
     "output_type": "stream",
     "text": [
      "Функция numpy\n",
      "\t\t 1.6099998902063817e-05\n",
      "Стандартная функция python\n",
      "\t\t 1.866000093286857e-05\n",
      "Собственная реализация\n",
      "\t\t 2.8800001018680632e-05\n"
     ]
    },
    {
     "data": {
      "text/html": [
       "<strong>Размерность 100x100</strong>"
      ],
      "text/plain": [
       "<IPython.core.display.HTML object>"
      ]
     },
     "metadata": {},
     "output_type": "display_data"
    },
    {
     "name": "stdout",
     "output_type": "stream",
     "text": [
      "Функция numpy\n",
      "\t\t 2.615000121295452e-05\n",
      "Стандартная функция python\n",
      "\t\t 0.0001191799994558096\n",
      "Собственная реализация\n",
      "\t\t 0.0014064599992707372\n"
     ]
    },
    {
     "data": {
      "text/html": [
       "<strong>Размерность 500x500</strong>"
      ],
      "text/plain": [
       "<IPython.core.display.HTML object>"
      ]
     },
     "metadata": {},
     "output_type": "display_data"
    },
    {
     "name": "stdout",
     "output_type": "stream",
     "text": [
      "Функция numpy\n",
      "\t\t 0.00015022999868961052\n",
      "Стандартная функция python\n",
      "\t\t 0.0015315600001486018\n",
      "Собственная реализация\n",
      "\t\t 0.03025251999933971\n"
     ]
    },
    {
     "data": {
      "text/html": [
       "<strong>Размерность 1000x1000</strong>"
      ],
      "text/plain": [
       "<IPython.core.display.HTML object>"
      ]
     },
     "metadata": {},
     "output_type": "display_data"
    },
    {
     "name": "stdout",
     "output_type": "stream",
     "text": [
      "Функция numpy\n",
      "\t\t 0.001016900000104215\n",
      "Стандартная функция python\n",
      "\t\t 0.0028094699999201113\n",
      "Собственная реализация\n",
      "\t\t 0.1256036699996912\n"
     ]
    },
    {
     "data": {
      "text/html": [
       "<strong>Размерность 10000x10000</strong>"
      ],
      "text/plain": [
       "<IPython.core.display.HTML object>"
      ]
     },
     "metadata": {},
     "output_type": "display_data"
    },
    {
     "name": "stdout",
     "output_type": "stream",
     "text": [
      "Функция numpy\n",
      "\t\t 0.041488229999959006\n",
      "Стандартная функция python\n",
      "\t\t 0.13021504000062123\n",
      "Собственная реализация\n",
      "\t\t 13.615128930000356\n"
     ]
    }
   ],
   "source": [
    "dim = [10, 100, 500, 1000, 10000]                              #сравнение времени выполнения для разных размерностей\n",
    "for d in dim:\n",
    "    display(HTML(f\"<strong>Размерность {d}x{d}</strong>\"))\n",
    "    matrix = np.random.randint(-100000, 100000, size=(d, d))\n",
    "    \n",
    "    #встроенная функция numpy\n",
    "    print(\"Функция numpy\")\n",
    "    ex_time = timeit.timeit(\"np.sum(matrix)\", number=10, globals=globals())\n",
    "    print(\"\\t\"*2, ex_time/10)\n",
    "    \n",
    "    print(\"Стандартная функция python\")\n",
    "    ex_time = timeit.timeit(\"py_sum(matrix)\", number=10, globals=globals())\n",
    "    print(\"\\t\"*2, ex_time/10)\n",
    "    \n",
    "    print(\"Собственная реализация\")\n",
    "    ex_time = timeit.timeit(\"alg_sum(matrix)\", number=10, globals=globals())\n",
    "    print(\"\\t\"*2, ex_time/10)"
   ]
  },
  {
   "cell_type": "code",
   "execution_count": null,
   "id": "d3ff5d8d",
   "metadata": {},
   "outputs": [],
   "source": []
  }
 ],
 "metadata": {
  "kernelspec": {
   "display_name": "Python 3 (ipykernel)",
   "language": "python",
   "name": "python3"
  },
  "language_info": {
   "codemirror_mode": {
    "name": "ipython",
    "version": 3
   },
   "file_extension": ".py",
   "mimetype": "text/x-python",
   "name": "python",
   "nbconvert_exporter": "python",
   "pygments_lexer": "ipython3",
   "version": "3.10.9"
  }
 },
 "nbformat": 4,
 "nbformat_minor": 5
}
