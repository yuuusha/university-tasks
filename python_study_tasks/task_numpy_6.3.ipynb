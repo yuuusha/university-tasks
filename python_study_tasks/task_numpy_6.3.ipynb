{
 "cells": [
  {
   "cell_type": "code",
   "execution_count": 5,
   "id": "f0206946",
   "metadata": {},
   "outputs": [
    {
     "name": "stdout",
     "output_type": "stream",
     "text": [
      "11. Дан вектор 𝑥 и матрица 𝐴. Умножить все четные строки матрицы 𝐴 на вектор 𝑥. Результат записать в новую матрицу и умножить ее на сумму элементов вектора 𝑥.\n",
      "[[9. 6. 5. 3. 5. 3.]\n",
      " [3. 5. 5. 1. 4. 4.]\n",
      " [6. 8. 7. 9. 1. 8.]\n",
      " [3. 8. 1. 6. 8. 9.]\n",
      " [3. 8. 4. 5. 1. 9.]\n",
      " [7. 1. 4. 9. 5. 4.]]\n",
      "[[8.]\n",
      " [3.]\n",
      " [4.]\n",
      " [5.]\n",
      " [1.]\n",
      " [2.]]\n"
     ]
    }
   ],
   "source": [
    "import numpy as np\n",
    "np.random.seed(6845)\n",
    "\n",
    "print(\"11. Дан вектор 𝑥 и матрица 𝐴. Умножить все четные строки матрицы 𝐴 на вектор 𝑥. Результат записать в новую матрицу и умножить ее на сумму элементов вектора 𝑥.\")\n",
    "\n",
    "n = 6\n",
    "matrixA = np.random.randint(1, 10, size=(n, n)).astype(float)\n",
    "print(matrixA)\n",
    "\n",
    "vectorX = np.random.randint(1, 10, size=(n, 1)).astype(float)\n",
    "print(vectorX)"
   ]
  },
  {
   "cell_type": "code",
   "execution_count": 13,
   "id": "4e1d47a6",
   "metadata": {},
   "outputs": [
    {
     "name": "stdout",
     "output_type": "stream",
     "text": [
      "[[3. 5. 5. 1. 4. 4.]\n",
      " [3. 8. 1. 6. 8. 9.]\n",
      " [7. 1. 4. 9. 5. 4.]]\n"
     ]
    }
   ],
   "source": [
    "even_matrixA = matrixA[1::2]\n",
    "print(even_matrixA)"
   ]
  },
  {
   "cell_type": "code",
   "execution_count": 10,
   "id": "1e14dfae",
   "metadata": {},
   "outputs": [
    {
     "name": "stdout",
     "output_type": "stream",
     "text": [
      "[[1748.]\n",
      " [2484.]\n",
      " [3059.]]\n"
     ]
    }
   ],
   "source": [
    "res_matrix = np.dot(even_matrixA, vectorX) * np.sum(vectorX) #формируем матрицу из четных строк исходной, \n",
    "                                                             #умножаем матрично на х (эквивалентно условию задачи)\n",
    "                                                             #умножаем каждый элемент на сумму\n",
    "print(res_matrix)"
   ]
  }
 ],
 "metadata": {
  "kernelspec": {
   "display_name": "Python 3 (ipykernel)",
   "language": "python",
   "name": "python3"
  },
  "language_info": {
   "codemirror_mode": {
    "name": "ipython",
    "version": 3
   },
   "file_extension": ".py",
   "mimetype": "text/x-python",
   "name": "python",
   "nbconvert_exporter": "python",
   "pygments_lexer": "ipython3",
   "version": "3.10.9"
  }
 },
 "nbformat": 4,
 "nbformat_minor": 5
}
